{
 "cells": [
  {
   "cell_type": "code",
   "execution_count": 1,
   "id": "967d8dd8",
   "metadata": {},
   "outputs": [],
   "source": [
    "import re\n",
    "import requests\n",
    "import zipfile\n",
    "import os\n",
    "import numpy as np\n",
    "\n",
    "with open('masterfilelist.txt') as f:\n",
    "    lines = f.readlines()"
   ]
  },
  {
   "cell_type": "code",
   "execution_count": 2,
   "id": "c21516f0",
   "metadata": {},
   "outputs": [],
   "source": [
    "re_1 = re.compile('.*gdeltv2/2022.*')\n",
    "re_2 = re.compile('http.*')\n",
    "re_3 = re.compile('.*(08|20)0000.(export|mentions|gkg).*')\n",
    "\n",
    "list_1 = [re_2.search(x).group() for x in list(filter(re_1.match, lines))]\n",
    "list_2 = list(filter(re_3.match, list_1))"
   ]
  },
  {
   "cell_type": "code",
   "execution_count": 3,
   "id": "c2523156",
   "metadata": {},
   "outputs": [],
   "source": [
    "for url in list_2:\n",
    "    r = requests.get(url, allow_redirects=True)\n",
    "    open('CSV files/zipfile.zip', 'wb').write(r.content) # download the zipfile using the url\n",
    "    \n",
    "    if zipfile.is_zipfile('CSV files/zipfile.zip'):\n",
    "        with zipfile.ZipFile('CSV files/zipfile.zip', 'r') as zip_file:\n",
    "            zip_file.extractall('CSV files') # Extract the content of the zipfile in the CSV files folder\n",
    "\n",
    "    os.remove('CSV files/zipfile.zip') # remove the zipfile"
   ]
  }
 ],
 "metadata": {
  "kernelspec": {
   "display_name": "Python 3 (ipykernel)",
   "language": "python",
   "name": "python3"
  },
  "language_info": {
   "codemirror_mode": {
    "name": "ipython",
    "version": 3
   },
   "file_extension": ".py",
   "mimetype": "text/x-python",
   "name": "python",
   "nbconvert_exporter": "python",
   "pygments_lexer": "ipython3",
   "version": "3.9.12"
  }
 },
 "nbformat": 4,
 "nbformat_minor": 5
}
